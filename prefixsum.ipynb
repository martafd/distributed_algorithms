{
 "cells": [
  {
   "cell_type": "markdown",
   "metadata": {},
   "source": [
    "# Task\n",
    "Реалізувати у вигляді програмного коду алгоритм PrefixSum для послідовної та паралельної реалізації алгоритму.\n",
    "<br>Кількість елементів є ступенем двійки.\n",
    "<br>Порівняти залежність часу виконання (або кількості операцій, на вибір) від розміру вхідних даних.\n",
    "<br>Розмір вхідної послідовності не повинен перевищувати 1 000 000 значень\n",
    "- - - "
   ]
  },
  {
   "cell_type": "code",
   "execution_count": 1,
   "metadata": {},
   "outputs": [],
   "source": [
    "import time\n",
    "import multiprocessing\n",
    "import numpy as np\n",
    "import matplotlib.pyplot as plt"
   ]
  },
  {
   "cell_type": "code",
   "execution_count": 2,
   "metadata": {},
   "outputs": [],
   "source": [
    "def seq_prefixsum(array):\n",
    "    out = []\n",
    "    out.append(0)\n",
    "    for i in range(1, len(array)):\n",
    "        out.append(array[i-1] + out[i-1])"
   ]
  },
  {
   "cell_type": "code",
   "execution_count": 3,
   "metadata": {},
   "outputs": [],
   "source": [
    "def parall_prefixsum(array, num_cores):\n",
    "\n",
    "    def down_summator(array, level, num, proc):\n",
    "        left = proc * num\n",
    "        right = proc * (num + 1)\n",
    "        for i in range(left + np.power(2, level + 1) - 1, right, np.power(2, level + 1)):\n",
    "            value = array[i]\n",
    "            array[i] = array[i] + array[i - np.power(2, level)]\n",
    "            array[i - np.power(2, level)] = value\n",
    "\n",
    "    def up_summator(array, level, num, proc): \n",
    "        left = proc * num\n",
    "        right = proc * (num + 1)\n",
    "        for i in range(left + np.power(2, level + 1) - 1, right, np.power(2, level + 1)):\n",
    "            array[i] = array[i] + array[i - np.power(2, level)]\n",
    "\n",
    "    def get_field_and_core(leng, level, num_cores):\n",
    "        process_field = np.power(2, level + 1)\n",
    "        core_num = int(leng / process_field)\n",
    "        if core_num > num_cores:\n",
    "            core_num = num_cores\n",
    "            process_field = int(leng / core_num)\n",
    "        return process_field, core_num\n",
    "\n",
    "    def multiprocess(target, process_field, core_num, level):    \n",
    "        for i in range(core_num):\n",
    "            p = multiprocessing.Process(target=target, args=(array, level, i, process_field))\n",
    "            p.daemon = False\n",
    "            jobs.append(p)\n",
    "            p.start()\n",
    "        for p in jobs:\n",
    "            p.join()\n",
    "        return array\n",
    "    \n",
    "    leng = len(array)\n",
    "    array += [0]\n",
    "    array = multiprocessing.Array('i', array.copy())\n",
    "    depth = np.log2(leng)\n",
    "    \n",
    "    for level in range(int(depth)):       \n",
    "        process_field, core_num = get_field_and_core(leng, level, num_cores)\n",
    "        array = multiprocess(up_summator, process_field, core_num, level)         \n",
    "    total = array[leng - 1]\n",
    "    array[leng - 1] = 0\n",
    "    \n",
    "    for level in range(int(depth) - 1, -1, -1):\n",
    "        process_field, core_num = get_field_and_core(leng, level, num_cores)\n",
    "        array = multiprocess(down_summator, process_field, core_num, level) \n",
    "    array[leng] = total   "
   ]
  },
  {
   "cell_type": "code",
   "execution_count": 4,
   "metadata": {
    "scrolled": true
   },
   "outputs": [],
   "source": [
    "num_cores = 4\n",
    "jobs = []\n",
    "\n",
    "seq_time = []\n",
    "parall_time = []\n",
    "\n",
    "for i in range(15):\n",
    "    input_ = [1] * (np.power(2, i))\n",
    "    \n",
    "    start = time.time()\n",
    "    seq_prefixsum(input_)\n",
    "    seq_time.append(time.time() - start)\n",
    "\n",
    "    start = time.time()\n",
    "    parall_prefixsum(input_, num_cores)\n",
    "    parall_time.append(time.time() - start)"
   ]
  },
  {
   "cell_type": "code",
   "execution_count": 11,
   "metadata": {},
   "outputs": [
    {
     "data": {
      "image/png": "[encoded data removed]",
      "text/plain": [
       "<matplotlib.figure.Figure at 0x7ff11b83e710>"
      ]
     },
     "metadata": {},
     "output_type": "display_data"
    }
   ],
   "source": [
    "plt.figure(figsize=(10, 5))\n",
    "plt.xlabel(\"size of array\")\n",
    "plt.ylabel(\"time\")\n",
    "plt.plot(np.arange(len(seq_time)), seq_time, label='sequential', color='orange')\n",
    "plt.plot(np.arange(len(parall_time)), parall_time, label='parallel', color='red')\n",
    "plt.ylim((min(seq_time) - 0.05, max(parall_time) + 0.05))\n",
    "plt.legend()\n",
    "plt.show()"
   ]
  }
 ],
 "metadata": {
  "kernelspec": {
   "display_name": "Python 3",
   "language": "python",
   "name": "python3"
  },
  "language_info": {
   "codemirror_mode": {
    "name": "ipython",
    "version": 3
   },
   "file_extension": ".py",
   "mimetype": "text/x-python",
   "name": "python",
   "nbconvert_exporter": "python",
   "pygments_lexer": "ipython3",
   "version": "3.5.2"
  }
 },
 "nbformat": 4,
 "nbformat_minor": 2
}
