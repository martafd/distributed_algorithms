{
 "cells": [
  {
   "cell_type": "markdown",
   "metadata": {},
   "source": [
    "## Task\n",
    "Реалізувати у вигляді програмного коду Parallel Merge Sort для паралельної реалізації.\n",
    "- - - "
   ]
  },
  {
   "cell_type": "code",
   "execution_count": 1,
   "metadata": {},
   "outputs": [],
   "source": [
    "import os, sys, time\n",
    "import numpy as np\n",
    "import random\n",
    "import multiprocessing"
   ]
  },
  {
   "cell_type": "code",
   "execution_count": 2,
   "metadata": {},
   "outputs": [],
   "source": [
    "def merge_sort(array):\n",
    "    if len(array) <= 1: \n",
    "        return array\n",
    "    half = int(np.floor(len(array) / 2))\n",
    "    left = array[:half]\n",
    "    right = array[half:]\n",
    "    left = merge_sort(left)\n",
    "    right = merge_sort(right)\n",
    "    return merge(left, right)\n",
    "\n",
    "def merge(left, right):\n",
    "    sorted_array = []\n",
    "    while len(left) > 0 or len(right) > 0:\n",
    "        if len(left) > 0 and len(right) > 0:\n",
    "            if left[0] <= right[0]:\n",
    "                sorted_array.append(left.pop(0))\n",
    "            else:\n",
    "                sorted_array.append(right.pop(0))\n",
    "        elif len(left) > 0:\n",
    "            sorted_array.append(left.pop(0))\n",
    "        elif len(right) > 0:\n",
    "            sorted_array.append(right.pop(0))\n",
    "    return sorted_array\n",
    "\n",
    "def seq_alg(array):\n",
    "    merge_sort(array)"
   ]
  },
  {
   "cell_type": "code",
   "execution_count": 3,
   "metadata": {
    "scrolled": false
   },
   "outputs": [],
   "source": [
    "def parall_merge_sort(array, q):\n",
    "    \n",
    "    if len(array) <= 1:\n",
    "        q.put(merge_sort(array))\n",
    "        q.close()\n",
    "        return\n",
    "    \n",
    "    half = int(np.floor(len(array) / 2))\n",
    "    left = multiprocessing.Queue()\n",
    "    left_p = multiprocessing.Process(target=parall_merge_sort, args=(array[:half], left))\n",
    "    \n",
    "    right = multiprocessing.Queue()\n",
    "    right_p = multiprocessing.Process(target=parall_merge_sort, args=(array[half:], right))\n",
    "    \n",
    "    left_p.start()\n",
    "    right_p.start()\n",
    "    q.put(merge(left.get(), right.get()))\n",
    "    q.close()\n",
    "    left_p.join()\n",
    "    right_p.join()\n",
    "    \n",
    "\n",
    "def parall_alg(array):\n",
    "    \n",
    "    q = multiprocessing.Queue()\n",
    "    p = multiprocessing.Process(target=parall_merge_sort, args=(array, q))\n",
    "    p.start()\n",
    "    array = q.get()\n",
    "    p.join()"
   ]
  },
  {
   "cell_type": "code",
   "execution_count": 4,
   "metadata": {},
   "outputs": [],
   "source": [
    "seq_time = []\n",
    "parall_time = []\n",
    "\n",
    "for i in range(11):\n",
    "    input_ = [int(random.uniform(-100, 100)) for i in range(np.power(2, i))]\n",
    "    \n",
    "    start = time.time()\n",
    "    seq_alg(input_)\n",
    "    seq_time.append(time.time() - start)\n",
    "\n",
    "    start = time.time()\n",
    "    parall_alg(input_)\n",
    "    parall_time.append(time.time() - start)"
   ]
  },
  {
   "cell_type": "code",
   "execution_count": 6,
   "metadata": {},
   "outputs": [
    {
     "data": {
      "image/png": "[encoded data removed]",
      "text/plain": [
       "<matplotlib.figure.Figure at 0x7f2e15b6b3c8>"
      ]
     },
     "metadata": {},
     "output_type": "display_data"
    }
   ],
   "source": [
    "import matplotlib.pyplot as plt\n",
    "\n",
    "plt.figure(figsize=(15, 8))\n",
    "plt.xlabel(\"size of array\")\n",
    "plt.ylabel(\"time\")\n",
    "plt.plot(np.arange(len(seq_time)), seq_time, label='sequential', color='orange')\n",
    "plt.plot(np.arange(len(parall_time)), parall_time, label='parallel', color='red')\n",
    "plt.ylim((min(seq_time) - 0.5, max(parall_time) + 0.5))\n",
    "plt.legend()\n",
    "plt.show()"
   ]
  }
 ],
 "metadata": {
  "kernelspec": {
   "display_name": "Python 3",
   "language": "python",
   "name": "python3"
  },
  "language_info": {
   "codemirror_mode": {
    "name": "ipython",
    "version": 3
   },
   "file_extension": ".py",
   "mimetype": "text/x-python",
   "name": "python",
   "nbconvert_exporter": "python",
   "pygments_lexer": "ipython3",
   "version": "3.5.2"
  }
 },
 "nbformat": 4,
 "nbformat_minor": 2
}
